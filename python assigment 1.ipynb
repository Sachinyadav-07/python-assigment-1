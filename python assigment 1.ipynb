{
 "cells": [
  {
   "cell_type": "markdown",
   "id": "8984f7a3-b5d6-454d-8ccd-5cfe0c4e344e",
   "metadata": {},
   "source": [
    "1. Write a Python program to print &quot;Hello Python&quot;?"
   ]
  },
  {
   "cell_type": "code",
   "execution_count": 5,
   "id": "318e8e96-2962-4950-a055-c5334cfb5888",
   "metadata": {},
   "outputs": [
    {
     "name": "stdout",
     "output_type": "stream",
     "text": [
      "hello python\n"
     ]
    }
   ],
   "source": [
    "string = \"hello python\"\n",
    "print(string)"
   ]
  },
  {
   "cell_type": "markdown",
   "id": "4178213b-3628-47b5-920e-bb7de18a0209",
   "metadata": {},
   "source": [
    "2. Write a Python program to do arithmetical operations addition and division.?"
   ]
  },
  {
   "cell_type": "code",
   "execution_count": 12,
   "id": "20efca29-899f-48b6-89ba-1637bbd5ecd1",
   "metadata": {},
   "outputs": [
    {
     "name": "stdout",
     "output_type": "stream",
     "text": [
      "50\n",
      "9.0\n"
     ]
    }
   ],
   "source": [
    "number_4 = 45\n",
    "number_5 = 5\n",
    "add = number_4 + number_5\n",
    "div = number_4 / number_5\n",
    "print(add)\n",
    "print(div)"
   ]
  },
  {
   "cell_type": "markdown",
   "id": "9e963f08-dcdd-4c93-8952-e9424e0b5196",
   "metadata": {},
   "source": [
    "3. Write a Python program to find the area of a triangle?"
   ]
  },
  {
   "cell_type": "code",
   "execution_count": 34,
   "id": "895a8748-5452-4e59-94d9-f5fdf4decf1d",
   "metadata": {},
   "outputs": [
    {
     "name": "stdin",
     "output_type": "stream",
     "text": [
      "enter the hight input: 20\n",
      "enter the base input: 34\n"
     ]
    },
    {
     "name": "stdout",
     "output_type": "stream",
     "text": [
      "area of triangle =  340.0\n"
     ]
    }
   ],
   "source": [
    "hight = int(input(\"enter the hight input:\"))\n",
    "base = int(input(\"enter the base input:\"))\n",
    "area = 0.5*(hight*base)\n",
    "print(\"area of triangle = \",area)"
   ]
  },
  {
   "cell_type": "markdown",
   "id": "911fce18-80cb-4b26-bd04-d276efcf4f98",
   "metadata": {},
   "source": [
    "4. Write a Python program to swap two variables?"
   ]
  },
  {
   "cell_type": "code",
   "execution_count": 21,
   "id": "794668a4-5bcc-4a9e-93eb-8ab1e58e501a",
   "metadata": {},
   "outputs": [
    {
     "name": "stdin",
     "output_type": "stream",
     "text": [
      "enter the frist input : 980\n",
      "enter the second input: 890\n"
     ]
    },
    {
     "name": "stdout",
     "output_type": "stream",
     "text": [
      "after swaping\n",
      "890\n",
      "980\n"
     ]
    }
   ],
   "source": [
    "a = int(input(\"enter the frist input :\"))\n",
    "b = int(input(\"enter the second input:\"))\n",
    "\n",
    "tamp = a\n",
    "a = b\n",
    "b = tamp\n",
    "print(\"after swaping\")\n",
    "print(a)\n",
    "print(b)"
   ]
  },
  {
   "cell_type": "markdown",
   "id": "2fded35a-f4e3-49fe-bae3-e9cea2615266",
   "metadata": {},
   "source": [
    "5. Write a Python program to generate a random number?"
   ]
  },
  {
   "cell_type": "code",
   "execution_count": 31,
   "id": "c0cca167-4442-4523-874d-1bb5a61aa507",
   "metadata": {},
   "outputs": [
    {
     "name": "stdout",
     "output_type": "stream",
     "text": [
      "random number is here :- 0.5477550913752728\n"
     ]
    }
   ],
   "source": [
    "import random\n",
    "r = random.random()\n",
    "print(\"random number is here :-\",r)"
   ]
  },
  {
   "cell_type": "code",
   "execution_count": null,
   "id": "bb508185-56fe-4ce4-8036-bd5d9ab206c8",
   "metadata": {},
   "outputs": [],
   "source": []
  },
  {
   "cell_type": "code",
   "execution_count": null,
   "id": "6858be36-bbe7-497d-a7f2-a21c6ea58bee",
   "metadata": {},
   "outputs": [],
   "source": []
  }
 ],
 "metadata": {
  "kernelspec": {
   "display_name": "Python 3 (ipykernel)",
   "language": "python",
   "name": "python3"
  },
  "language_info": {
   "codemirror_mode": {
    "name": "ipython",
    "version": 3
   },
   "file_extension": ".py",
   "mimetype": "text/x-python",
   "name": "python",
   "nbconvert_exporter": "python",
   "pygments_lexer": "ipython3",
   "version": "3.12.7"
  }
 },
 "nbformat": 4,
 "nbformat_minor": 5
}
